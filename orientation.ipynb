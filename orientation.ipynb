{
  "nbformat": 4,
  "nbformat_minor": 0,
  "metadata": {
    "colab": {
      "name": "orientation.ipynb",
      "provenance": []
    },
    "kernelspec": {
      "name": "python3",
      "display_name": "Python 3"
    }
  },
  "cells": [
    {
      "cell_type": "code",
      "metadata": {
        "id": "wIhDfG36WGjy",
        "colab_type": "code",
        "colab": {}
      },
      "source": [
        "import numpy as np\n",
        "import pandas as pd\n",
        "from google.colab import drive\n",
        "\n",
        "from scipy.optimize import leastsq\n",
        "import matplotlib.pyplot as plt\n",
        "from mpl_toolkits.mplot3d import Axes3D \n",
        "import math\n",
        "from sklearn.cluster import KMeans\n",
        "from sklearn.linear_model import LinearRegression\n",
        "from sklearn.preprocessing import StandardScaler\n",
        "\n",
        "%matplotlib inline\n",
        "# plt.rcParams[\"figure.figsize\"] = 12.8, 9.6"
      ],
      "execution_count": 0,
      "outputs": []
    },
    {
      "cell_type": "code",
      "metadata": {
        "id": "jV6vTpv-WMkF",
        "colab_type": "code",
        "outputId": "efe1f0fa-4c7c-4f4a-95b4-b42df6d5ca65",
        "colab": {
          "base_uri": "https://localhost:8080/",
          "height": 35
        }
      },
      "source": [
        "drive.mount('/content/gdrive')"
      ],
      "execution_count": 843,
      "outputs": [
        {
          "output_type": "stream",
          "text": [
            "Drive already mounted at /content/gdrive; to attempt to forcibly remount, call drive.mount(\"/content/gdrive\", force_remount=True).\n"
          ],
          "name": "stdout"
        }
      ]
    },
    {
      "cell_type": "code",
      "metadata": {
        "id": "i1dnP0OoWlmV",
        "colab_type": "code",
        "outputId": "b0393648-6fa2-46bb-c035-8cd4648cf02a",
        "colab": {
          "base_uri": "https://localhost:8080/",
          "height": 52
        }
      },
      "source": [
        "!ls \"/content/gdrive/My Drive/Colab Notebooks/orientation\""
      ],
      "execution_count": 844,
      "outputs": [
        {
          "output_type": "stream",
          "text": [
            "18-march  20-march\t    box_1_output.npy  box_3_output.npy\n",
            "19-march  box_0_output.npy  box_2_output.npy  box_4_output.npy\n"
          ],
          "name": "stdout"
        }
      ]
    },
    {
      "cell_type": "code",
      "metadata": {
        "id": "nKb4tbTNXU3g",
        "colab_type": "code",
        "colab": {}
      },
      "source": [
        "def load_point_cloud_from_file():\n",
        "  df = np.load(\"/content/gdrive/My Drive/Colab Notebooks/orientation/18-march/30-load/point_cloud_err_2.npy\")\n",
        "  return df.T"
      ],
      "execution_count": 0,
      "outputs": []
    },
    {
      "cell_type": "code",
      "metadata": {
        "id": "cAk557VIWkL-",
        "colab_type": "code",
        "colab": {}
      },
      "source": [
        "def scale_input_data(point_list, scale_factor):\n",
        "  return point_list*scale_factor"
      ],
      "execution_count": 0,
      "outputs": []
    },
    {
      "cell_type": "code",
      "metadata": {
        "id": "TVg3poatpLRx",
        "colab_type": "code",
        "colab": {}
      },
      "source": [
        "def filter_input_data_for_outliers(points):\n",
        "  points[2] = points[2]*DEPTH_SCALE\n",
        "  std_dev = np.std(points[2])\n",
        "  mean = np.mean(points[2])\n",
        "\n",
        "  print(\"standard deviation = \", std_dev)\n",
        "  print(\"mean = \", mean)\n",
        "  print(\"array shape = \", points.shape)\n",
        "\n",
        "  filtered_array = np.array([])\n",
        "  for index in range(len(points[2])):\n",
        "    if points[2][index] < (mean + std_dev*CUT_OFF_SCALE) and points[2][index] > (mean - std_dev*CUT_OFF_SCALE):\n",
        "      filtered_array = np.append(filtered_array, points[:, index], axis=0)\n",
        "  \n",
        "  # print(\"flat array length = \", len(filtered_array)/3)\n",
        "  filtered_array = np.reshape(filtered_array, (int(len(filtered_array)/3), 3))\n",
        "  print(\"new array shape = \", filtered_array.T.shape)\n",
        "  return filtered_array.T"
      ],
      "execution_count": 0,
      "outputs": []
    },
    {
      "cell_type": "code",
      "metadata": {
        "id": "YWClAEIoRaHl",
        "colab_type": "code",
        "colab": {}
      },
      "source": [
        "def apply_standard_scaling(points):\n",
        "  scaler = StandardScaler()\n",
        "  X = scaler.fit_transform(points)\n",
        "  return X"
      ],
      "execution_count": 0,
      "outputs": []
    },
    {
      "cell_type": "code",
      "metadata": {
        "id": "WP13-Ybn6RmC",
        "colab_type": "code",
        "colab": {}
      },
      "source": [
        "def remove_minor_clusters(filtered_points):\n",
        "  cluster_points = [(filtered_points[0][index], filtered_points[2][index]) for index in range(len(filtered_points[0]))]\n",
        "  scaler = StandardScaler()\n",
        "  X = scaler.fit_transform(cluster_points)\n",
        "  kmeans = KMeans(n_clusters=NUM_CLUSTER, n_init=10).fit(X)\n",
        "  # print(kmeans.labels_)\n",
        "\n",
        "  data = {\"x\": filtered_points[0], \"y\": filtered_points[1], \"depth\": filtered_points[2], \"cluster\": kmeans.labels_}\n",
        "  df = pd.DataFrame(data)\n",
        "  mean = df.groupby('cluster').count().mean()['depth']\n",
        "  cluster_depth = df.groupby('cluster').count()['depth']\n",
        "  cluster_depth = cluster_depth.where(cluster_depth > mean).dropna()\n",
        "  # print(cluster_depth)\n",
        "  # print(cluster_depth.keys())\n",
        "\n",
        "  df = df[df['cluster'].isin(cluster_depth.keys())]\n",
        "\n",
        "  # plot before cluster removal\n",
        "  # scatter = plt.scatter(filtered_points[0], filtered_points[2], c=kmeans.labels_)\n",
        "  # plt.legend(*scatter.legend_elements(num=7),\n",
        "  #                     loc=\"upper right\", title=\"Cluster\")\n",
        "\n",
        "  cluster_filtered_points = np.array([df['x'].tolist(), \n",
        "                                     df['y'].tolist(),\n",
        "                                     df['depth'].tolist()])\n",
        "\n",
        "  # plot after cluster removal\n",
        "  # scatter = plt.scatter(cluster_filtered_points[0], cluster_filtered_points[2])\n",
        "  # plt.legend(*scatter.legend_elements(num=7),\n",
        "  #                     loc=\"upper right\", title=\"Cluster\")\n",
        "    \n",
        "  return cluster_filtered_points"
      ],
      "execution_count": 0,
      "outputs": []
    },
    {
      "cell_type": "code",
      "metadata": {
        "id": "m9-nEbLSXnZZ",
        "colab_type": "code",
        "colab": {}
      },
      "source": [
        "def distance(X,p):\n",
        "    plane = p[0:3]\n",
        "    distance = (plane*X.T).sum(axis=1) - p[3]\n",
        "    return distance / np.linalg.norm(plane)\n",
        "\n",
        "def residuals(params, signal, X):\n",
        "    return distance(X, params)"
      ],
      "execution_count": 0,
      "outputs": []
    },
    {
      "cell_type": "code",
      "metadata": {
        "id": "oTBJn9PkYnSB",
        "colab_type": "code",
        "colab": {}
      },
      "source": [
        "def get_initial_plane_coefficient():\n",
        "    \"\"\" \n",
        "    plane equation is aX + bY + cZ = d\n",
        "    plane_coeff = [a, b, c, d]\n",
        "    \"\"\"\n",
        "    plane_coeff = [0.506645455682, -0.185724560275, -1.43998120646, 1.37626378129]\n",
        "    \n",
        "    return plane_coeff"
      ],
      "execution_count": 0,
      "outputs": []
    },
    {
      "cell_type": "code",
      "metadata": {
        "id": "nd5QcoOgZGA5",
        "colab_type": "code",
        "colab": {}
      },
      "source": [
        "def get_plane_point_cloud(a, b, c, d):\n",
        "    if a != 0:\n",
        "        x = np.linspace(0,500,10)\n",
        "    else:\n",
        "        x = np.linspace(0,0,10)\n",
        "        \n",
        "    if b != 0:\n",
        "        y = np.linspace(0,500,10)\n",
        "    else:\n",
        "        y = np.linspace(0,0,10)\n",
        "    \n",
        "    if c != 0:\n",
        "        X,Y = np.meshgrid(x,y)\n",
        "        Z = (d - (a*X + b*Y))/c\n",
        "    else:\n",
        "        z = np.linspace(0,0,10)\n",
        "        X,Z = np.meshgrid(x, z)\n",
        "        Y = (d - (a*X + c*Z))/b\n",
        "\n",
        "    return X, Y, Z"
      ],
      "execution_count": 0,
      "outputs": []
    },
    {
      "cell_type": "code",
      "metadata": {
        "id": "oCm_KAAjKSCX",
        "colab_type": "code",
        "colab": {}
      },
      "source": [
        "def calculate_angle_of_line_with_axis(line_function):\n",
        "  x = [100, 1000]\n",
        "  y = line_function(x)\n",
        "  print(y)\n",
        "  print(y[-1] - y[0])\n",
        "  print(x[-1] - x[0])\n",
        "  angle = np.rad2deg(np.arctan2(y[-1] - y[0], x[-1] - x[0]))\n",
        "  # print(\"orientation angle is = \", angle)\n",
        "  return angle"
      ],
      "execution_count": 0,
      "outputs": []
    },
    {
      "cell_type": "code",
      "metadata": {
        "id": "nW1bbzxNZRYO",
        "colab_type": "code",
        "colab": {}
      },
      "source": [
        "def calculate_angle_between_planes(a1, b1, c1, a2, b2, c2):\n",
        "    n = abs(a1*a2 + b1*b2 + c1*c2)\n",
        "    d1 = math.sqrt(a1*a1 + b1*b1 + c1*c1)\n",
        "    d2 = math.sqrt(a2*a2 + b2*b2 + c2*c2)\n",
        "    cos_angle = round(n/(d1*d2), 10)\n",
        "    print(\"n = \", n, \" d1 = \", d1, \" d2 = \", d2, \"angle in radians = \", cos_angle)\n",
        "    angle = math.degrees(math.acos(cos_angle))\n",
        "    return angle"
      ],
      "execution_count": 0,
      "outputs": []
    },
    {
      "cell_type": "code",
      "metadata": {
        "id": "g0WddxcySNBk",
        "colab_type": "code",
        "colab": {}
      },
      "source": [
        "def fit_3dplane_to_point_cloud(filtered_points):\n",
        "  plane_coeff = get_initial_plane_coefficient()\n",
        "  solution = leastsq(residuals, plane_coeff, args=(None, filtered_points))[0]\n",
        "\n",
        "  print(\"old offset = \", (distance(filtered_points, plane_coeff)**2).sum())\n",
        "  print(\"new offset =  \", (distance(filtered_points, solution)**2).sum())\n",
        "\n",
        "  return solution"
      ],
      "execution_count": 0,
      "outputs": []
    },
    {
      "cell_type": "code",
      "metadata": {
        "id": "8VtriaadTCta",
        "colab_type": "code",
        "colab": {}
      },
      "source": [
        "def fit_2dline_to_point_cloud(filtered_points):\n",
        "  regression = np.polyfit(filtered_points[0], filtered_points[2], deg=1)\n",
        "  print(\"line equation = \", regression)\n",
        "  line_function = np.poly1d(regression)\n",
        "\n",
        "  return line_function, regression"
      ],
      "execution_count": 0,
      "outputs": []
    },
    {
      "cell_type": "code",
      "metadata": {
        "id": "YnGn6yhhU4fu",
        "colab_type": "code",
        "colab": {}
      },
      "source": [
        "def plot_3d_plane_function(filtered_points, plane_function):\n",
        "  fig = plt.figure()\n",
        "  ax = fig.add_subplot(111, projection='3d')\n",
        "  # ax = plt.axes(projection='3d')\n",
        "  # ax = fig.gca(projection='3d')\n",
        "\n",
        "  ax.set_xlabel(\"X\")\n",
        "  ax.set_ylabel(\"Y\")\n",
        "  ax.set_zlabel(\"Z\")\n",
        "\n",
        "  # original plot point cloud\n",
        "  # xs = points[0]\n",
        "  # ys = points[1]\n",
        "  # zs = points[2]\n",
        "\n",
        "  # point cloud excluding outliers\n",
        "  xs = filtered_points[0]\n",
        "  ys = filtered_points[1]\n",
        "  zs = filtered_points[2]\n",
        "\n",
        "  ax.scatter(xs, ys, zs, linewidth=1)\n",
        "\n",
        "  # plot inferred plan\n",
        "  X, Y, Z = get_plane_point_cloud(solution[0], solution[1], solution[2], solution[3])\n",
        "  ax.plot_surface(X, Y, Z, alpha=1, cmap='autumn')\n",
        "\n",
        "  # plot reference plan\n",
        "  ref_plane_a = 0\n",
        "  ref_plane_b = 0\n",
        "  ref_plane_c = 1\n",
        "  ref_plane_d = 1\n",
        "\n",
        "  X, Y, Z = get_plane_point_cloud(ref_plane_a, ref_plane_b, ref_plane_c, ref_plane_d)\n",
        "  ax.plot_surface(X, Y, Z, alpha=0, cmap='winter')"
      ],
      "execution_count": 0,
      "outputs": []
    },
    {
      "cell_type": "code",
      "metadata": {
        "id": "xE3omA1BVa29",
        "colab_type": "code",
        "colab": {}
      },
      "source": [
        "def plot_histogram_of_point_cloud(filtered_points):\n",
        "  plt.hist(filtered_points[2])"
      ],
      "execution_count": 0,
      "outputs": []
    },
    {
      "cell_type": "code",
      "metadata": {
        "id": "934QYJ0jUbsD",
        "colab_type": "code",
        "colab": {}
      },
      "source": [
        "def plot_2d_line_function(filtered_points, linear_function, regression):\n",
        "    fig = plt.figure()\n",
        "    y = [0, 0]\n",
        "    x = [400, 600]\n",
        "    # y = line_function(x)\n",
        "    for index in range(2):\n",
        "      y[index] = x[index]*regression[0] + regression[1]\n",
        "\n",
        "    print(\"x = \", x)\n",
        "    print(\"y = \", y)\n",
        "\n",
        "    plt.scatter(filtered_points[0], filtered_points[2])\n",
        "    plt.plot(x,y)"
      ],
      "execution_count": 0,
      "outputs": []
    },
    {
      "cell_type": "code",
      "metadata": {
        "id": "LCxvtWFVKs7Y",
        "colab_type": "code",
        "colab": {}
      },
      "source": [
        "# global constants\n",
        "\n",
        "DEPTH_SCALE = 2000 # scale the depth values comparable with image width and height (1280x720)\n",
        "CUT_OFF_SCALE = 1 # scale factor for mean to remove outliers\n",
        "NUM_CLUSTER = 3 # cluster count for K Means algo to remove erroneous clusters\n",
        "\n",
        "def main():\n",
        "  print(\"loading point cloud from file...\")\n",
        "  points = load_point_cloud_from_file()\n",
        "  points = points.T # fix the point cloud matrix\n",
        "  # filtered_points = scale_input_data(points, DEPTH_SCALE)\n",
        "  print(\"removing outliers...\")\n",
        "  filtered_points = filter_input_data_for_outliers(points)\n",
        "\n",
        "  # filtered_points = apply_standard_scaling(filtered_points)\n",
        "  print(\"array shape = \", filtered_points.shape)\n",
        "  # filtered_points = remove_minor_clusters(filtered_points)\n",
        "  # print(\"new array shape =\", filtered_points.shape)\n",
        "\n",
        "  # fit 3D plane to point cloud\n",
        "  print(\"fitting a 3D plane in point cloud...\")\n",
        "  solution = fit_3dplane_to_point_cloud(filtered_points)\n",
        "  plot_3d_plane_function(filtered_points, solution)\n",
        "\n",
        "  # print(filtered_points)\n",
        "  # print(\"a = \", solution[0], \"b = \", solution[1], \"c = \", solution[2], \"d = \", solution[3])\n",
        "\n",
        "  # fit a line for the project depth point cloud\n",
        "  print(\"fitting a 2D line in projected point cloud...\")\n",
        "  line_function, regression = fit_2dline_to_point_cloud(filtered_points)\n",
        "\n",
        "  plot_2d_line_function(filtered_points, line_function, regression)\n",
        "\n",
        "  # print(\"Inferred ->  a = \", solution[0], \"b = \", solution[1], \"c = \", solution[2], \"d = \", solution[3])\n",
        "  # print(\"Reference -> a = \", ref_plane_a, \"b = \", ref_plane_b, \"c = \", ref_plane_c, \"d = \", ref_plane_d)\n",
        "\n",
        "  angle = calculate_angle_between_planes(solution[0], solution[1], solution[2], ref_plane_a, ref_plane_b, ref_plane_c)\n",
        "  print(\"angle between plane is %.2f degrees\"%(angle))\n",
        "\n",
        "  angle = calculate_angle_of_line_with_axis(line_function)\n",
        "  print(\"[solution] orientation angle = %.2f degrees\"%(angle))\n",
        "\n"
      ],
      "execution_count": 0,
      "outputs": []
    },
    {
      "cell_type": "code",
      "metadata": {
        "id": "EEk6-QRdQlpb",
        "colab_type": "code",
        "colab": {
          "base_uri": "https://localhost:8080/",
          "height": 843
        },
        "outputId": "8657dc54-a5c5-45f7-849e-d2b71b05a0c1"
      },
      "source": [
        "main()"
      ],
      "execution_count": 884,
      "outputs": [
        {
          "output_type": "stream",
          "text": [
            "loading point cloud from file...\n",
            "removing outliers...\n",
            "standard deviation =  184.21556314580906\n",
            "mean =  774.793967808055\n",
            "array shape =  (3, 9230)\n",
            "new array shape =  (3, 8755)\n",
            "array shape =  (3, 8755)\n",
            "fitting a 3D plane in point cloud...\n",
            "old offset =  4279544171.1461344\n",
            "new offset =   241552.67807214588\n",
            "fitting a 2D line in projected point cloud...\n",
            "line equation =  [-1.10859064e+00  1.33876366e+03]\n",
            "x =  [400, 600]\n",
            "y =  [895.3273989627645, 673.6092701405152]\n",
            "n =  1.2476672056675286  d1 =  1.3690829133937774  d2 =  1.0 angle in radians =  0.9113160302\n",
            "angle between plane is 24.31 degrees\n",
            "[1227.9045922  230.1730125]\n",
            "-997.731579700122\n",
            "900\n",
            "[solution] orientation angle = -47.95 degrees\n"
          ],
          "name": "stdout"
        },
        {
          "output_type": "display_data",
          "data": {
            "image/png": "[encoded data removed]",
            "text/plain": [
              "<Figure size 432x288 with 1 Axes>"
            ]
          },
          "metadata": {
            "tags": []
          }
        },
        {
          "output_type": "display_data",
          "data": {
            "image/png": "[encoded data removed]",
            "text/plain": [
              "<Figure size 432x288 with 1 Axes>"
            ]
          },
          "metadata": {
            "tags": []
          }
        }
      ]
    },
    {
      "cell_type": "code",
      "metadata": {
        "id": "KZtNT9kxPBVk",
        "colab_type": "code",
        "colab": {}
      },
      "source": [
        ""
      ],
      "execution_count": 0,
      "outputs": []
    }
  ]
}